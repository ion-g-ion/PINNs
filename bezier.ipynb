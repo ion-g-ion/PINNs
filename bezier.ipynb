{
 "cells": [
  {
   "cell_type": "markdown",
   "metadata": {},
   "source": [
    "# Basics of Bezier patches"
   ]
  },
  {
   "cell_type": "code",
   "execution_count": null,
   "metadata": {},
   "outputs": [],
   "source": [
    "import numpy as np \n",
    "import jax \n",
    "import jax.numpy as jnp \n",
    "import matplotlib.pyplot as plt \n",
    "import pyvista as pv \n",
    "import pinns\n",
    "\n",
    "jax.config.update(\"jax_enable_x64\", False)"
   ]
  },
  {
   "cell_type": "markdown",
   "metadata": {},
   "source": [
    "### Curves in 2D\n",
    "\n",
    "Define a patch and plot it together with the control points."
   ]
  },
  {
   "cell_type": "code",
   "execution_count": null,
   "metadata": {},
   "outputs": [],
   "source": [
    "control_points = np.array([[0.0,0.0],[1.5,0.0],[0.5,1],[0,2],[1,2],[2,2],[2,0]])\n",
    "basis = pinns.functions.PiecewiseBernsteinBasisJAX(np.array([0,1/3,2/3,1]), 2)\n",
    "patch = pinns.geometry.PatchTensorProduct([basis], control_points, 0, 2)\n",
    "\n",
    "t = np.linspace(0,1,1000).reshape([-1, 1])\n",
    "xs = patch(t)\n",
    "plt.figure()\n",
    "plt.plot(xs[:,0], xs[:,1])\n",
    "plt.scatter(control_points[:,0], control_points[:,1], color='k')\n",
    "plt.plot(control_points[:,0], control_points[:,1], 'k:')"
   ]
  },
  {
   "cell_type": "markdown",
   "metadata": {},
   "source": [
    "Distance from points"
   ]
  },
  {
   "cell_type": "code",
   "execution_count": null,
   "metadata": {},
   "outputs": [],
   "source": [
    "pts = np.random.normal(loc = [1.5,1], size = (20,2))\n",
    "#pts = np.array([[1.5,0.75]])\n",
    "ts, ds, ps = patch.distance_to_points(pts)\n",
    "\n",
    "#ps = patch(ts.reshape([-1,1]))\n",
    "plt.figure()\n",
    "plt.plot(xs[:,0], xs[:,1])\n",
    "plt.scatter(pts[:,0], pts[:,1], color='r', s=5)\n",
    "plt.scatter(ps[:,0], ps[:,1], color='k', s=5)\n",
    "for i in range(pts.shape[0]):\n",
    "    plt.plot([pts[i,0], ps[i,0]], [pts[i,1], ps[i,1]], 'k:')"
   ]
  },
  {
   "cell_type": "markdown",
   "metadata": {},
   "source": [
    "Now with linear Bezier"
   ]
  },
  {
   "cell_type": "code",
   "execution_count": null,
   "metadata": {},
   "outputs": [],
   "source": [
    "basis_lin = pinns.functions.PiecewiseBernsteinBasisJAX(np.linspace(0,1,7), 1)\n",
    "patch_lin = pinns.geometry.PatchTensorProduct([basis_lin], control_points, 0, 2)\n",
    "\n",
    "xs = patch_lin(t)\n",
    "plt.figure()\n",
    "plt.plot(xs[:,0], xs[:,1])\n",
    "plt.scatter(control_points[:,0], control_points[:,1], color='k')"
   ]
  },
  {
   "cell_type": "markdown",
   "metadata": {},
   "source": [
    "Distance from points"
   ]
  },
  {
   "cell_type": "code",
   "execution_count": null,
   "metadata": {},
   "outputs": [],
   "source": [
    "pts = np.random.normal(loc = [1.5,1], size = (20,2))\n",
    "\n",
    "ts, ds, ps = patch_lin.distance_to_points(pts)\n",
    "\n",
    "plt.figure()\n",
    "plt.plot(xs[:,0], xs[:,1])\n",
    "plt.scatter(pts[:,0], pts[:,1], color='r', s=5)\n",
    "plt.scatter(ps[:,0], ps[:,1], color='k', s=5)\n",
    "for i in range(pts.shape[0]):\n",
    "    plt.plot([pts[i,0], ps[i,0]], [pts[i,1], ps[i,1]], 'k:')"
   ]
  },
  {
   "cell_type": "markdown",
   "metadata": {},
   "source": [
    "### Surface in 2D\n"
   ]
  },
  {
   "cell_type": "code",
   "execution_count": null,
   "metadata": {},
   "outputs": [],
   "source": [
    "control_points = np.zeros((3, 3, 2))\n",
    "control_points[0,0,:] = [0.0, 0]\n",
    "control_points[0,1,:] = [1.0, 0.5]\n",
    "control_points[0,2,:] = [2.0, 0]\n",
    "control_points[1,0,:] = [0.5, 1]\n",
    "control_points[1,1,:] = [1.0, 1]\n",
    "control_points[1,2,:] = [1.5, 1]\n",
    "control_points[2,0,:] = [2.0, 2]\n",
    "control_points[2,1,:] = [3.0, 1.8]\n",
    "control_points[2,2,:] = [4.0, 2]\n",
    "basis = pinns.functions.PiecewiseBernsteinBasisJAX(np.array([0.0,1]), 2)\n",
    "patch = pinns.geometry.PatchTensorProduct([basis, basis], control_points, 0, 2)\n",
    "\n",
    "u1, u2 = np.meshgrid(np.linspace(0,1,400), np.linspace(0,1,400))\n",
    "xs = patch(np.concatenate((u1.reshape([-1,1]), u2.reshape([-1,1])),1))\n",
    "\n",
    "plt.figure()\n",
    "plt.scatter(xs[:,0], xs[:,1], s=0.5)\n",
    "plt.scatter(control_points[...,0].flatten(), control_points[...,1].flatten(), c='k')\n",
    "# plt.contourf(xs[:,0].reshape([400,-1]), xs[:,1].reshape([400,-1]), 0*xs[:,0].reshape([400,-1]))"
   ]
  },
  {
   "cell_type": "markdown",
   "metadata": {},
   "source": [
    "### Surfaces in 3D"
   ]
  },
  {
   "cell_type": "code",
   "execution_count": null,
   "metadata": {},
   "outputs": [],
   "source": [
    "control_points = np.zeros((3, 3, 3))\n",
    "control_points[0,0,:] = [0.0, 0, 0.0]\n",
    "control_points[0,1,:] = [1.0, 0.5, 0.0]\n",
    "control_points[0,2,:] = [2.0, 0, 0.0]\n",
    "control_points[1,0,:] = [0.5, 1, 0.0]\n",
    "control_points[1,1,:] = [1.0, 1, 1.0]\n",
    "control_points[1,2,:] = [1.5, 1, 0.0]\n",
    "control_points[2,0,:] = [2.0, 2, 0.0]\n",
    "control_points[2,1,:] = [3.0, 1.8, 0.0]\n",
    "control_points[2,2,:] = [4.0, 2, 0.0]\n",
    "\n",
    "basis = pinns.functions.PiecewiseBernsteinBasisJAX(np.array([0.0,1]), 2)\n",
    "patch = pinns.geometry.PatchTensorProduct([basis, basis], control_points, 0, 3)\n",
    "\n",
    "u1, u2 = np.meshgrid(np.linspace(0,1,400), np.linspace(0,1,400))\n",
    "xs = np.array(patch(np.concatenate((u1.reshape([-1,1]), u2.reshape([-1,1])),1)))\n",
    "\n",
    "pl = pv.Plotter()\n",
    "grid = pv.StructuredGrid(xs[:,0].reshape([400, -1]), xs[:,1].reshape([400, -1]), xs[:,2].reshape([400, -1]))\n",
    "pl.add_mesh(grid)\n",
    "\n",
    "pl.show()"
   ]
  },
  {
   "cell_type": "code",
   "execution_count": null,
   "metadata": {},
   "outputs": [],
   "source": [
    "control_points = np.zeros((3, 3, 3))\n",
    "control_points[0,0,:] = [0.0, 0, 0.0]\n",
    "control_points[0,1,:] = [1.0, 0.5, 0.0]\n",
    "control_points[0,2,:] = [2.0, 0, 0.0]\n",
    "control_points[1,0,:] = [0.5, 1, 0.0]\n",
    "control_points[1,1,:] = [1.0, 1, 1.0]\n",
    "control_points[1,2,:] = [1.5, 1, 0.0]\n",
    "control_points[2,0,:] = [2.0, 2, 0.0]\n",
    "control_points[2,1,:] = [3.0, 1.8, 0.0]\n",
    "control_points[2,2,:] = [4.0, 2, 0.0]\n",
    "\n",
    "basis = pinns.functions.PiecewiseBernsteinBasisJAX(np.array([0.0,0.5,1]), 1)\n",
    "patch_lin = pinns.geometry.PatchTensorProduct([basis, basis], control_points, 0, 3)\n",
    "\n",
    "u1, u2 = np.meshgrid(np.linspace(0,1,400), np.linspace(0,1,400))\n",
    "xs = np.array(patch_lin(np.concatenate((u1.reshape([-1,1]), u2.reshape([-1,1])),1)))\n",
    "\n",
    "pl = pv.Plotter()\n",
    "grid = pv.StructuredGrid(xs[:,0].reshape([400, -1]), xs[:,1].reshape([400, -1]), xs[:,2].reshape([400, -1]))\n",
    "pl.add_mesh(grid)\n",
    "\n",
    "grid.save('test.vtk')\n",
    "\n",
    "pl.show()"
   ]
  },
  {
   "cell_type": "markdown",
   "metadata": {},
   "source": [
    "Distance to first order surface:"
   ]
  },
  {
   "cell_type": "code",
   "execution_count": null,
   "metadata": {},
   "outputs": [],
   "source": [
    "pts = np.random.normal(loc = [1.5,1,0], size = (20,3))\n",
    "\n",
    "us, vs, ds, ps = patch_lin.distance_to_points(pts)\n",
    "\n",
    "cloud = pv.wrap(pts)\n",
    "cound_projected = pv.wrap(np.array(ps))\n",
    "lines = [pv.Line(pts[i,:], ps[i,:]) for i in range(pts.shape[0])]\n",
    "\n",
    "u1, u2 = np.meshgrid(np.linspace(0,1,400), np.linspace(0,1,400))\n",
    "xs = np.array(patch_lin(np.concatenate((u1.reshape([-1,1]), u2.reshape([-1,1])),1)))\n",
    "\n",
    "pl = pv.Plotter()\n",
    "surface = pv.StructuredGrid(xs[:,0].reshape([400, -1]), xs[:,1].reshape([400, -1]), xs[:,2].reshape([400, -1]))\n",
    "objects = surface.merge(cloud)\n",
    "objects = objects.merge(cound_projected)\n",
    "objects = objects.merge(lines)\n",
    "\n",
    "objects.save('test.vtk')\n",
    "pl.add_mesh(surface)\n",
    "pl.add_mesh(cloud, color='red')\n",
    "pl.add_mesh(cound_projected, color='blue')\n",
    "for l in lines:\n",
    "    pl.add_mesh(l)\n",
    "\n",
    "pl.show()"
   ]
  },
  {
   "cell_type": "code",
   "execution_count": null,
   "metadata": {},
   "outputs": [],
   "source": [
    "\n",
    "for p in pts:\n",
    "    for i in range(xs.shape[0]):\n",
    "        if np.linalg.norm(p-xs[i,:]) < ds[i]:\n",
    "            print(\"problem \" , i, p, xs[i,:], np.linalg.norm(p-xs[i,:]), ds[i])"
   ]
  }
 ],
 "metadata": {
  "kernelspec": {
   "display_name": "jax-new",
   "language": "python",
   "name": "python3"
  },
  "language_info": {
   "codemirror_mode": {
    "name": "ipython",
    "version": 3
   },
   "file_extension": ".py",
   "mimetype": "text/x-python",
   "name": "python",
   "nbconvert_exporter": "python",
   "pygments_lexer": "ipython3",
   "version": "3.10.13"
  }
 },
 "nbformat": 4,
 "nbformat_minor": 2
}
