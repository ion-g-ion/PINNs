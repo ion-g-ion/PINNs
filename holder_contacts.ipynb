{
 "cells": [
  {
   "cell_type": "markdown",
   "metadata": {},
   "source": [
    "Imports:"
   ]
  },
  {
   "cell_type": "code",
   "execution_count": null,
   "metadata": {},
   "outputs": [],
   "source": [
    "import numpy as np\n",
    "import jax\n",
    "import jax.numpy as jnp\n",
    "from jax.example_libraries import stax, optimizers\n",
    "import matplotlib.pyplot as plt\n",
    "import pyvista as pv\n",
    "import pinns \n",
    "import datetime\n",
    "import jax.scipy.optimize\n",
    "import jax.flatten_util\n",
    "import scipy\n",
    "import scipy.optimize\n",
    "import random\n",
    "\n",
    "rnd_key = jax.random.PRNGKey(1234)\n",
    "np.random.seed(14124)"
   ]
  },
  {
   "cell_type": "markdown",
   "metadata": {},
   "source": [
    "Set the default precision and the execution device."
   ]
  },
  {
   "cell_type": "code",
   "execution_count": null,
   "metadata": {},
   "outputs": [],
   "source": [
    "jax.config.update(\"jax_enable_x64\", False)\n",
    "# print(\"GPU devices: \", jax.devices('gpu'))\n",
    "dev = jax.devices('gpu')[0] if jax.device_count()>1 and len(jax.devices('gpu'))>0 else jax.devices('cpu')[0]\n",
    "print(dev)"
   ]
  },
  {
   "cell_type": "markdown",
   "metadata": {},
   "source": [
    "### Geometry definition \n",
    "\n",
    "Define the geometry patches:"
   ]
  },
  {
   "cell_type": "code",
   "execution_count": null,
   "metadata": {},
   "outputs": [],
   "source": [
    "def get_domain(r0: float, r1: float, R: float, h: float, H: float):\n",
    "\n",
    "    basis1 = pinns.functions.BSplineBasisJAX(np.array([-1, 0, 1]), 2)\n",
    "    basis2 = pinns.functions.BSplineBasisJAX(np.array([-1, 1]), 2)\n",
    "    basis3 = pinns.functions.BSplineBasisJAX(np.array([-1, 1]), 1)\n",
    "\n",
    "    def tmp_gen(angle, r_0, r_1):\n",
    "        pts = np.zeros([4, 3, 2, 3])\n",
    "        weights = np.ones([4, 3, 2])\n",
    "\n",
    "        a = np.pi/2-angle/2\n",
    "        rs = np.linspace(r_0, r_1, 4)\n",
    "        pts[-1, 0, 0, :] = [np.cos(-angle/2), np.sin(-angle/2), 0]\n",
    "        pts[-1, 1, 0, :] = [1/np.sin(a), 0, 0]\n",
    "        pts[-1, 2, 0, :] = [np.cos(angle/2), np.sin(angle/2), 0]\n",
    "        pts[0, :, 0, :2] = rs[0] * pts[-1, :, 0, :2]\n",
    "        pts[1, :, 0, :2] = rs[1] * pts[-1, :, 0, :2]\n",
    "        pts[2, :, 0, :2] = rs[2] * pts[-1, :, 0, :2]\n",
    "        pts[3, :, 0, :2] = rs[3] * pts[-1, :, 0, :2]\n",
    "        pts[0, :, 0, 2] = -1\n",
    "        pts[1, :, 0, 2] = -1\n",
    "        pts[2, :, 0, 2] = -1\n",
    "        pts[3, :, 0, 2] = -1\n",
    "        pts[:, :, 1, :] = pts[:, :, 0, :]\n",
    "        pts[:, :, 1, 2] = -pts[:, :, 1, 2]\n",
    "        weights[:, 1, :] = np.sin(a)\n",
    "\n",
    "        return pts, weights\n",
    "\n",
    "    geoms = dict()\n",
    "\n",
    "    pts, weights = tmp_gen(np.pi/2, r0, r1)\n",
    "    pts[:, :, :, 2] *= h/2\n",
    "    # pts[2:,:,:,2] *= h/2\n",
    "    pts[3, 1, :, 0] = pts[3, 0, :, 0]\n",
    "    pts[1, 1, :, 0] = 2*pts[0, 1, :, 0]/3+pts[-1, 1, :, 0]/3\n",
    "    pts[2, 1, :, 0] = pts[0, 1, :, 0]/3+2*pts[-1, 1, :, 0]/3\n",
    "    weights[-1, 1, :] = 1.0\n",
    "\n",
    "    geoms['flat'] = pinns.geometry.PatchNURBS(\n",
    "        [basis1, basis2, basis3], pts.copy(), weights.copy(), 0, 3)\n",
    "\n",
    "    pts2 = pts[-1, :, :, :]\n",
    "    weights[...] = 1.0\n",
    "    linsp = np.linspace(0, 1, basis1.n)\n",
    "\n",
    "    pts[0, :, :, :] = pts2\n",
    "    pts[-1, :, :, :] = pts2\n",
    "    pts[-1, :, :, 0] *= R/r1\n",
    "    pts[-1, :, :, 1] *= H/h\n",
    "    # pts[0, :, :, 2] *= H/h\n",
    "\n",
    "    for i in range(1, basis1.n-1):\n",
    "        pts[i, :, :, 2] = (1-linsp[i]**0.25)*pts[0, :, :, 2] + \\\n",
    "            linsp[i]**0.25*pts[-1, :, :, 2]\n",
    "        pts[i, :, :, 0] = (1-linsp[i])*pts[0, :, :, 0] + \\\n",
    "            linsp[i]*pts[-1, :, :, 0]\n",
    "        pts[i, :, :, 1] = (1-linsp[i]**4)*pts[0, :, :, 1] + \\\n",
    "            linsp[i]**4*pts[-1, :, :, 1]\n",
    "        pts[i, :, :, 1] *= 2*(linsp[i]-1/2)**2+0.5\n",
    "        pts[i, :, :, 2] *= 2*(linsp[i]-1/2)**2+0.5\n",
    "\n",
    "    geoms['spoke'] = pinns.geometry.PatchNURBS(\n",
    "        [basis1, basis2, basis3], pts, weights, 0, 3)\n",
    "\n",
    "    pts, weights = tmp_gen(np.pi/2, r0, r1)\n",
    "    pts[:, :, :, 2] *= h/2\n",
    "    # pts[2:,:,:,2] *= h/2\n",
    "\n",
    "    geoms['round_0'] = pinns.geometry.PatchNURBS(\n",
    "        [basis1, basis2, basis3], pts, weights, 0, 3)\n",
    "    geoms['round_0'].rotate((0, 0, np.pi/2))\n",
    "\n",
    "    pts, weights = tmp_gen(np.pi/2, r0, r1)\n",
    "    pts[:, :, :, 2] *= h/2\n",
    "    # pts[2:,:,:,2] *= h/2\n",
    "\n",
    "    geoms['round_1'] = pinns.geometry.PatchNURBS(\n",
    "        [basis1, basis2, basis3], pts, weights, 0, 3)\n",
    "    geoms['round_1'].rotate((0, 0, 2*np.pi/2))\n",
    "\n",
    "    pts, weights = tmp_gen(np.pi/2, r0, r1)\n",
    "    pts[:, :, :, 2] *= h/2\n",
    "    # pts[2:,:,:,2] *= h/2\n",
    "\n",
    "    geoms['round_2'] = pinns.geometry.PatchNURBS(\n",
    "        [basis1, basis2, basis3], pts, weights, 0, 3)\n",
    "    geoms['round_2'].rotate((0, 0, 3*np.pi/2))\n",
    "\n",
    "    return geoms\n",
    "\n",
    "\n",
    "geoms = get_domain(0.4, 0.8, 3.0, 1.0, 1.5)\n",
    "names = list(geoms.keys())"
   ]
  },
  {
   "cell_type": "markdown",
   "metadata": {},
   "source": [
    "Export as a VTK file for visualization in paraview."
   ]
  },
  {
   "cell_type": "code",
   "execution_count": null,
   "metadata": {},
   "outputs": [],
   "source": [
    "with jax.disable_jit():\n",
    "    objects = [pinns.extras.plot(geoms[n], dict(), N=32) for n in geoms]\n",
    "\n",
    "obj = objects[0]\n",
    "for i in range(1, len(objects)):\n",
    "    obj = obj.merge(objects[i])\n",
    "\n",
    "obj.save('testing.vtk')"
   ]
  },
  {
   "cell_type": "markdown",
   "metadata": {},
   "source": [
    "Determine the connectivity of the patches:"
   ]
  },
  {
   "cell_type": "code",
   "execution_count": null,
   "metadata": {},
   "outputs": [],
   "source": [
    "with jax.disable_jit(True):\n",
    "    connectivity = pinns.geometry.match_patches(geoms, eps=1e-4, verbose=False)\n",
    "\n",
    "for c in connectivity:\n",
    "    print(c)"
   ]
  },
  {
   "cell_type": "code",
   "execution_count": null,
   "metadata": {},
   "outputs": [],
   "source": [
    "for k in geoms:\n",
    "    pinns.geometry.save_patch('holder_'+k+'.geom', geoms[k])\n",
    "\n",
    "import pickle \n",
    "\n",
    "with open('connectivity_holder.pkl', 'wb') as file: \n",
    "    pickle.dump(connectivity, file) "
   ]
  },
  {
   "cell_type": "markdown",
   "metadata": {},
   "source": [
    "### ANN spaces definition\n",
    "\n",
    "The network is an MLP with residual connections and width set by the `nl` paraemter.\n",
    "There are 2 spaces defined: first has 0 Dirichlet BCs on one facet and the other has no Dirichlet BCs enforced. "
   ]
  },
  {
   "cell_type": "code",
   "execution_count": null,
   "metadata": {},
   "outputs": [],
   "source": [
    "nl = 20\n",
    "acti =  stax.elementwise(lambda x: jax.nn.leaky_relu(x)**2)\n",
    "w_init = jax.nn.initializers.normal()\n",
    "\n",
    "block_first = stax.serial(stax.FanOut(2),stax.parallel(stax.serial(stax.Dense(nl,W_init = w_init), acti, stax.Dense(nl,W_init = w_init), acti),stax.Dense(nl,W_init = w_init)),stax.FanInSum)\n",
    "block = stax.serial(stax.FanOut(2),stax.parallel(stax.serial(stax.Dense(nl,W_init = w_init), acti, stax.Dense(nl,W_init = w_init), acti),stax.Dense(nl,W_init = w_init)),stax.FanInSum)\n",
    "nn = stax.serial(block_first,block, stax.Dense(3))\n",
    "\n",
    "space_bc = pinns.FunctionSpaceNN(pinns.DirichletMask(nn, 3, [(-1,1), (-1,1), (-1,1)], [{'dim': 0, 'end': -1}]), ((-1,1), (-1,1), (-1,1))) \n",
    "space = pinns.FunctionSpaceNN(nn,((-1,1), (-1,1), (-1,1)))"
   ]
  },
  {
   "cell_type": "markdown",
   "metadata": {},
   "source": [
    "### PINNs\n",
    "\n",
    "Define the PINN class. The loss has to be defined. In this case, the nonlinear geometry is used."
   ]
  },
  {
   "cell_type": "code",
   "execution_count": null,
   "metadata": {},
   "outputs": [],
   "source": [
    "class Pinn(pinns.PINN):\n",
    "    \n",
    "    def __init__(self):\n",
    "          \n",
    "        self.weights = {n: space_bc.init_weights(rnd_key) if 'spoke' in n else space.init_weights(rnd_key) for n in names}\n",
    "        self.solutions = pinns.connectivity_to_interfaces({n: space_bc if 'spoke' in n else space for n in names}, connectivity)\n",
    "        \n",
    "        E = 0.02e5\n",
    "        nu = 0.3\n",
    "        self.E = E\n",
    "        self.nu = nu\n",
    "        \n",
    "        self.lamda = E*nu/(1+nu)/(1-2*nu)\n",
    "        self.mu = E/2/(1+nu)\n",
    "\n",
    "        rho = 0.2\n",
    "        g = 9.81\n",
    "        self.rho = rho\n",
    "        \n",
    "        self.f = np.array([0,-g*rho,0]) \n",
    "        self.energy = lambda F,C,J,params: params[0]*jnp.sum(F**2, axis=(-2,-1)) + params[1]*jnp.abs(J)**2*jnp.sum(jnp.linalg.inv(F)**2, axis=(-1,-2)) + params[2]*J**2 - params[3]*jnp.log(jnp.abs(J))+params[4]\n",
    "        self.energy = lambda F,C,J,params: 0.5*self.mu*(C[...,0,0]+C[...,1,1]+C[...,2,2]-3)-self.mu*jnp.log(jnp.abs(J))+0.5*self.lamda*jnp.log(jnp.abs(J))**2\n",
    "        self.energy = lambda F,E,J,params: 0.5*self.lamda*(E[...,0,0]+E[...,1,1]+E[...,2,2])**2+self.mu*jnp.sum(E*E, axis=(-1,-2))\n",
    "        \n",
    "        self.a = 0.5*self.mu\n",
    "        self.b = 0.0\n",
    "        self.c = 0.0\n",
    "        self.d = self.mu\n",
    "        self.e = -1.5*self.mu\n",
    "\n",
    "        self.kpen = 1e3\n",
    "        self.Ab = np.array([[0.0,1.0,0.0]]), np.array([[-0.7]]), np.array([[0.0,-1.0,0.0]]), np.array([[-0.7]])\n",
    "        super(Pinn, self).__init__(geoms)\n",
    "   \n",
    " \n",
    "    def loss(self, training_parameters, points):\n",
    "        \n",
    "\n",
    "        jacs = [pinns.functions.jacobian(lambda x : self.solutions[n](training_parameters, x))(points[n].points_reference) for n in names]\n",
    "        jacs_x = [points[names[i]].jacobian_transformation(jacs[i]) for i in range(len(names))]\n",
    "        Fs = [jnp.eye(3)+jacs_x[i] for i in range(len(names))]\n",
    "        Cs = [jnp.einsum('mij,mik->mjk', Fs[i], Fs[i]) for i in range(len(names))]\n",
    "        Cs = [0.5*(Cs[i]-jnp.eye(3)[None,...]) for i in range(len(names))]\n",
    "        \n",
    "        dets = [jnp.linalg.det(Fs[i]) for i in range(len(names))]\n",
    "         \n",
    "        Es = [jnp.dot(self.energy(Fs[i], Cs[i], dets[i], [self.a, self.b,self.c,self.d,self.e]), points[names[i]].dx()) for i in range(len(names))]\n",
    "        rhss = [jnp.dot(dets[i] * jnp.einsum('k,mk->m', self.f, self.solutions[names[i]](training_parameters, points[names[i]].points_reference)), points[names[i]].dx()) for i in range(len(names))] \n",
    "\n",
    "        contact_res  = jnp.dot(pinns.geometry.gap_to_convex_polytope(self.Ab[0], self.Ab[1], points['ds2'].points_physical+self.solutions['round_2'](training_parameters, points['ds2'].points_reference)), points['ds2'].weights)\n",
    "        contact_res += jnp.dot(pinns.geometry.gap_to_convex_polytope(self.Ab[2], self.Ab[3], points['ds0'].points_physical+self.solutions['round_0'](training_parameters, points['ds0'].points_reference)), points['ds0'].weights)\n",
    "        \n",
    "        return sum(Es) - sum(rhss) + self.kpen * contact_res\n",
    "    \n",
    "        \n",
    "model = Pinn()  "
   ]
  },
  {
   "cell_type": "markdown",
   "metadata": {},
   "source": [
    "### Training\n"
   ]
  },
  {
   "cell_type": "code",
   "execution_count": null,
   "metadata": {},
   "outputs": [],
   "source": [
    "opt_type = 'ADAM'\n",
    "\n",
    "if opt_type == 'ADAM':\n",
    "    \n",
    "    \n",
    "    n_batches = 500 \n",
    "    n_points = 1000000\n",
    "    n_points_batch = n_points//n_batches\n",
    "    \n",
    "    lr_opti = optimizers.piecewise_constant([2000,3000,4000,5000,7000], [0.005, 0.005/2, 0.005/4, 0.005/8,0.005/16,0.005/32])\n",
    "    #lr_opti = optimizers.piecewise_constant([2000,3000,4000,5000], [0.005, 0.005/4, 0.005/4,0.005/4,0.005/4])\n",
    "    lr_opti = optimizers.piecewise_constant([7000], [0.01/2, 0.001])\n",
    "    opt_init, opt_update, get_params = optimizers.adam(lr_opti)\n",
    "\n",
    "    opt_state = opt_init(model.weights)\n",
    "    weights_init = model.weights\n",
    "    \n",
    "    # get initial parameters\n",
    "    params = get_params(opt_state)\n",
    "\n",
    "    loss_grad = jax.jit(lambda ws, pts: (model.loss(ws, pts), jax.grad(model.loss)(ws, pts)), device = dev)\n",
    "\n",
    "    def step(params, opt_state, key):\n",
    "        # points = model.get_points_MC(5000)\n",
    "        points = model.points_MonteCarlo(n_points_batch, key, [{'patch': 'round_2', 'label': 'ds2', 'axis': 0, 'end': -1, 'n': n_points_batch}, {'patch': 'round_0', 'label': 'ds0', 'axis': 0, 'end': -1, 'n': n_points_batch}])\n",
    "        loss = model.loss(params, points)\n",
    "        grads = jax.grad(model.loss)(params, points)\n",
    "        #loss, grads = loss_grad(params, points)\n",
    "        opt_state = opt_update(0, grads, opt_state)\n",
    "\n",
    "        params = get_params(opt_state)\n",
    "        \n",
    "        return params, opt_state, loss\n",
    "\n",
    "    step_compiled = jax.jit(step, device = dev)\n",
    "    step_compiled(params, opt_state, rnd_key)\n",
    "\n",
    "    n_epochs = 20\n",
    "\n",
    "    hist = []\n",
    "    hist_weights = []\n",
    "    \n",
    "    # min_loss = 10000\n",
    "    tme = datetime.datetime.now()\n",
    "    for ep in range(n_epochs):   \n",
    "        \n",
    "        losses = []\n",
    "        for b in random.sample(range(n_batches), n_batches):\n",
    "         \n",
    "            params, opt_state, loss = step_compiled(params, opt_state, jax.random.PRNGKey(b+0*np.random.randint(1000)))\n",
    "            #print(\"\\tbatch %d/%d\"%(b+1, n_batches))\n",
    "            hist.append(loss)\n",
    "            losses.append(loss)\n",
    "        \n",
    "        hist_weights.append(params.copy())\n",
    "        print('Epoch %d/%d - mean loss %e, max loss %e, min loss %e, std loss %e'%(ep+1, n_epochs, np.mean(losses), np.max(losses), np.min(losses), np.std(losses)))\n",
    "        \n",
    "    # update params\n",
    "    model.weights = params\n",
    "    weights = params\n",
    "    tme = datetime.datetime.now() - tme\n",
    "    print('Elapsed time ', tme)\n"
   ]
  },
  {
   "cell_type": "markdown",
   "metadata": {},
   "source": [
    "### Plot \n",
    "\n",
    "Save the solution as a `.vtk` file."
   ]
  },
  {
   "cell_type": "code",
   "execution_count": null,
   "metadata": {},
   "outputs": [],
   "source": [
    "with jax.disable_jit():\n",
    "    pv_objects = [pinns.extras.plot(geoms[n], {'displacement': lambda y: model.solutions[n](weights, y)}, N= 25) for n in geoms]\n",
    "\n",
    "obj = pv_objects[0]\n",
    "for i in range(1,len(pv_objects)):\n",
    "    obj = obj.merge(pv_objects[i])\n",
    "obj.save('solution_holder_contacts.vtk')"
   ]
  },
  {
   "cell_type": "code",
   "execution_count": null,
   "metadata": {},
   "outputs": [],
   "source": [
    "for ep in range(n_epochs):\n",
    "    with jax.disable_jit():\n",
    "        pv_objects = [pinns.extras.plot(geoms[n], {'displacement': lambda y: model.solutions[n](hist_weights[ep], y)}, N= 25) for n in geoms]\n",
    "\n",
    "    obj = pv_objects[0]\n",
    "    for i in range(1,len(pv_objects)):\n",
    "        obj = obj.merge(pv_objects[i])\n",
    "    obj.save('solution_holder_contacts_%d.vtk'%(ep+1))"
   ]
  }
 ],
 "metadata": {
  "kernelspec": {
   "display_name": "jax2",
   "language": "python",
   "name": "python3"
  },
  "language_info": {
   "codemirror_mode": {
    "name": "ipython",
    "version": 3
   },
   "file_extension": ".py",
   "mimetype": "text/x-python",
   "name": "python",
   "nbconvert_exporter": "python",
   "pygments_lexer": "ipython3",
   "version": "3.10.13"
  }
 },
 "nbformat": 4,
 "nbformat_minor": 2
}
