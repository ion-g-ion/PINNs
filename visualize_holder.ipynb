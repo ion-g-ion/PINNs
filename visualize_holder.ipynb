{
 "cells": [
  {
   "cell_type": "code",
   "execution_count": 1,
   "metadata": {},
   "outputs": [],
   "source": [
    "import numpy as np\n",
    "import pyvista as pv"
   ]
  },
  {
   "cell_type": "code",
   "execution_count": 2,
   "metadata": {},
   "outputs": [],
   "source": [
    "num_file = 2\n",
    "\n",
    "holder_pinn = pv.read(\"solution_holder_contacts.%d.vtk\"%(num_file))\n",
    "holder_ccx = pv.read(\"holder.%d.vtk\"%(num_file))\n",
    "holder_ccx2pinn = holder_pinn.sample(holder_ccx, tolerance=0.001, pass_cell_data=True, pass_point_data=True, categorical=False, progress_bar=False, locator=None, pass_field_data=True, mark_blank=True, snap_to_closest_point=True)\n",
    "holder_ccx2pinn.point_data[\"U_diff\"] = holder_ccx2pinn.point_data[\"displacement\"] - holder_ccx2pinn.point_data[\"U\"]\n",
    "holder_press = holder_ccx.clip_box([-10.0,10.0,-1.0,1,-10.0,10.0], invert=True)\n",
    "holder_press.save(\"holder_rigids.%d.vtk\"%(num_file))\n",
    "holder_ccx2pinn.save(\"holder_solution_combined.%d.vtk\"%(num_file))"
   ]
  },
  {
   "cell_type": "code",
   "execution_count": 3,
   "metadata": {},
   "outputs": [],
   "source": [
    "num_n = np.array([len(holder_ccx2pinn.point_neighbors(i)) for i in range(holder_ccx2pinn.points.shape[0])])\n",
    "holder_ccx2pinn.point_data[\"U_diff\"][num_n != 26,:] = 0.0 \n",
    "holder_ccx2pinn.point_data[\"connections\"] = num_n.astype(np.float64)\n",
    "holder_ccx2pinn.save(\"holder_solution_combined.%d.vtk\"%(num_file))\n"
   ]
  },
  {
   "cell_type": "code",
   "execution_count": 4,
   "metadata": {},
   "outputs": [
    {
     "name": "stdout",
     "output_type": "stream",
     "text": [
      "[ 7 11 15 17 23 26]\n"
     ]
    }
   ],
   "source": [
    "print(np.unique(num_n))"
   ]
  },
  {
   "cell_type": "code",
   "execution_count": null,
   "metadata": {},
   "outputs": [
    {
     "name": "stdout",
     "output_type": "stream",
     "text": [
      "l2 relative error 0.04533260453507817\n",
      "linf relative error 0.059283881598567185\n",
      "mse relative 0.009857300174274745\n"
     ]
    },
    {
     "ename": "",
     "evalue": "",
     "output_type": "error",
     "traceback": [
      "\u001b[1;31mThe Kernel crashed while executing code in the current cell or a previous cell. \n",
      "\u001b[1;31mPlease review the code in the cell(s) to identify a possible cause of the failure. \n",
      "\u001b[1;31mClick <a href='https://aka.ms/vscodeJupyterKernelCrash'>here</a> for more info. \n",
      "\u001b[1;31mView Jupyter <a href='command:jupyter.viewOutput'>log</a> for further details."
     ]
    }
   ],
   "source": [
    "err_l2_rel = np.linalg.norm(holder_ccx2pinn.point_data[\"U_diff\"]) / np.linalg.norm(holder_ccx2pinn.point_data[\"U\"])\n",
    "print(\"l2 relative error\", err_l2_rel)\n",
    "err_linf_rel = np.linalg.norm(holder_ccx2pinn.point_data[\"U_diff\"], ord=np.inf) / np.linalg.norm(holder_ccx2pinn.point_data[\"U\"], ord=np.inf)\n",
    "print(\"linf relative error\", err_linf_rel)\n",
    "err_msqe_rel = np.sqrt(np.mean(holder_ccx2pinn.point_data[\"U_diff\"]**2)) / np.linalg.norm(holder_ccx2pinn.point_data[\"U\"], ord=np.inf)\n",
    "print(\"mse relative\", err_msqe_rel)"
   ]
  },
  {
   "cell_type": "code",
   "execution_count": null,
   "metadata": {},
   "outputs": [],
   "source": [
    "plotter = pv.Plotter()\n",
    "plotter.add_mesh(holder_ccx2pinn)\n",
    "plotter.show()"
   ]
  }
 ],
 "metadata": {
  "kernelspec": {
   "display_name": "jax",
   "language": "python",
   "name": "python3"
  },
  "language_info": {
   "codemirror_mode": {
    "name": "ipython",
    "version": 3
   },
   "file_extension": ".py",
   "mimetype": "text/x-python",
   "name": "python",
   "nbconvert_exporter": "python",
   "pygments_lexer": "ipython3",
   "version": "3.10.15"
  }
 },
 "nbformat": 4,
 "nbformat_minor": 2
}
